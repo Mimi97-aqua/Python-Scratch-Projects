{
 "cells": [
  {
   "cell_type": "code",
   "execution_count": 43,
   "id": "76b74df3",
   "metadata": {},
   "outputs": [
    {
     "data": {
      "text/plain": [
       "array(['HipHop', 'Jazz', 'HipHop', 'Classical'], dtype=object)"
      ]
     },
     "execution_count": 43,
     "metadata": {},
     "output_type": "execute_result"
    }
   ],
   "source": [
    "#reading data \n",
    "import pandas as pd \n",
    "music_data = pd.read_csv('music.csv')\n",
    "\n",
    "#decision tree algorithm\n",
    "from sklearn.tree import DecisionTreeClassifier\n",
    "\n",
    "#function to split dataset for training and testing \n",
    "from sklearn.model_selection import train_test_split\n",
    "\n",
    "from sklearn.metrics import accuracy_score\n",
    "\n",
    "#creates a new dataset without the genre column\n",
    "X = music_data.drop(columns=['genre'])\n",
    "\n",
    "#gets only values in the genre column\n",
    "y = music_data['genre']\n",
    "\n",
    "#80% for training and 20% for testing\n",
    "X_train, X_test, y_train, y_test = train_test_split(X, y, test_size = 0.2)\n",
    "\n",
    "model = DecisionTreeClassifier()\n",
    "model.fit(X_train, y_train) #passing dataset for training model\n",
    "\n",
    "#asking model to predict the kind of music \n",
    "# 21 year old males and 22 year old females \n",
    "\n",
    "predictions = model.predict(X_test)\n",
    "predictions\n",
    "\n",
    "# score = accuracy_score(y_test, predictions)\n",
    "# score"
   ]
  },
  {
   "cell_type": "code",
   "execution_count": null,
   "id": "6c2991e8",
   "metadata": {},
   "outputs": [],
   "source": []
  },
  {
   "cell_type": "code",
   "execution_count": null,
   "id": "25203d50",
   "metadata": {},
   "outputs": [],
   "source": []
  }
 ],
 "metadata": {
  "kernelspec": {
   "display_name": "Python 3 (ipykernel)",
   "language": "python",
   "name": "python3"
  },
  "language_info": {
   "codemirror_mode": {
    "name": "ipython",
    "version": 3
   },
   "file_extension": ".py",
   "mimetype": "text/x-python",
   "name": "python",
   "nbconvert_exporter": "python",
   "pygments_lexer": "ipython3",
   "version": "3.10.9"
  }
 },
 "nbformat": 4,
 "nbformat_minor": 5
}
